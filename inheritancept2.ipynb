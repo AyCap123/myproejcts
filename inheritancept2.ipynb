{
 "cells": [
  {
   "cell_type": "code",
   "execution_count": 12,
   "id": "85002f91",
   "metadata": {},
   "outputs": [
    {
     "name": "stdout",
     "output_type": "stream",
     "text": [
      "4 is bigger than 3\n"
     ]
    }
   ],
   "source": [
    "class first():\n",
    "    def __init__(self,a,b):\n",
    "        self.a=a\n",
    "        self.b=b\n",
    "class hello(first):\n",
    "    def addsub(self):\n",
    "        add=self.a+self.b\n",
    "        sub=self.a-self.b\n",
    "        print(add,sub)\n",
    "class bello(hello):\n",
    "    def divmulti(self):\n",
    "        add=self.a*self.b\n",
    "        sub=self.a*self.b\n",
    "        print(add,sub)\n",
    "class kello(bello):\n",
    "    def bigsmall(self):\n",
    "        if self.a>self.b:\n",
    "            print(self.a,\"is bigger than\",self.b)\n",
    "        elif self.a<self.b:\n",
    "            print(self.b, \"is bigger than\",self.a)\n",
    "        else:\n",
    "            print(\"equal\")\n",
    "    \n",
    "obj1=kello(3,4)\n",
    "obj1.bigsmall()\n"
   ]
  },
  {
   "cell_type": "code",
   "execution_count": 13,
   "id": "eca466c0",
   "metadata": {},
   "outputs": [
    {
     "name": "stdout",
     "output_type": "stream",
     "text": [
      "GreatGrandfather\n",
      "child\n",
      "relation is child\n"
     ]
    }
   ],
   "source": [
    "class greatgrandparent():\n",
    "    def __init__(self):\n",
    "        print(\"GreatGrandfather\")\n",
    "class grandparent(greatgrandparent):\n",
    "    def __init__(self):\n",
    "        super().__init__()\n",
    "        print(\"Grandfather\")\n",
    "class parent(greatgrandparent):\n",
    "    def __init__(self):\n",
    "        super().__init__()\n",
    "        print(\"parent\")\n",
    "class child(greatgrandparent):\n",
    "    def __init__(self):\n",
    "        super().__init__()\n",
    "        print(\"child\")\n",
    "        print(\"relation is child\")\n",
    "obj1=child()\n",
    "\n",
    "\n",
    "   "
   ]
  },
  {
   "cell_type": "code",
   "execution_count": 15,
   "id": "323346fb",
   "metadata": {},
   "outputs": [
    {
     "name": "stdout",
     "output_type": "stream",
     "text": [
      "im a lemon\n",
      "brinjal\n"
     ]
    }
   ],
   "source": [
    "class fruit():\n",
    "    def __init__(self):\n",
    "        print(\"im a lemon\")\n",
    "class citrus(fruit):\n",
    "    def __init__(self):\n",
    "        super().__init__()\n",
    "        print(\"im citrus\")\n",
    "class vegetable(fruit):\n",
    "    def __init__(self):\n",
    "        super().__init__()\n",
    "        print(\"brinjal\")\n",
    "obj1=vegetable()"
   ]
  },
  {
   "cell_type": "code",
   "execution_count": 16,
   "id": "decff81c",
   "metadata": {},
   "outputs": [
    {
     "name": "stdout",
     "output_type": "stream",
     "text": [
      "-5\n",
      "-4\n",
      "-3\n",
      "-2\n",
      "-1\n"
     ]
    }
   ],
   "source": [
    "class hello():\n",
    "    def numbers():\n",
    "        for i in range (-5,5,1):\n",
    "            if(i>0):\n",
    "                print(i)\n",
    "    def numbers():\n",
    "        for i in range (-5,5,1):\n",
    "            if(i<0):\n",
    "                print(i)\n",
    "obj=hello()\n",
    "hello.numbers()"
   ]
  },
  {
   "cell_type": "code",
   "execution_count": null,
   "id": "ce4e2969",
   "metadata": {},
   "outputs": [],
   "source": [
    "overloading is basically the ability to define multiple methods in the same class with the same name bu different parameters. In overloading the there will be two functions with same names but when it is called the latest function is called."
   ]
  },
  {
   "cell_type": "code",
   "execution_count": null,
   "id": "7e982e20",
   "metadata": {},
   "outputs": [],
   "source": [
    "inheritance is a mechanism in which  a new class inherits properties and behavious of an existing vlass allowing the code to be used again and establishing a relationship between the classes"
   ]
  },
  {
   "cell_type": "code",
   "execution_count": null,
   "id": "1b125b26",
   "metadata": {},
   "outputs": [],
   "source": [
    "class hello():\n",
    "    def numbers():\n",
    "        for i in range (-5,5,1):\n",
    "            if(i>0):\n",
    "                print(i)\n",
    "    def numbers():\n",
    "        for i in range (-5,5,1):\n",
    "            if(i<0):\n",
    "                print(i)\n",
    "obj=hello()\n",
    "hello.numbers()overloading example-"
   ]
  },
  {
   "cell_type": "code",
   "execution_count": null,
   "id": "273a6fee",
   "metadata": {},
   "outputs": [],
   "source": [
    "inheritance example-class fruit():\n",
    "    def __init__(self):\n",
    "        print(\"im a lemon\")\n",
    "class citrus(fruit):\n",
    "    def __init__(self):\n",
    "        super().__init__()\n",
    "        print(\"im citrus\")\n",
    "class vegetable(fruit):\n",
    "    def __init__(self):\n",
    "        super().__init__()\n",
    "        print(\"brinjal\")\n",
    "obj1=vegetable()"
   ]
  },
  {
   "cell_type": "code",
   "execution_count": null,
   "id": "1cbe5398",
   "metadata": {},
   "outputs": [],
   "source": [
    "single-, multilevel, hybrid, hierarchal,multiple"
   ]
  },
  {
   "cell_type": "code",
   "execution_count": 19,
   "id": "706eb1a6",
   "metadata": {},
   "outputs": [
    {
     "name": "stdout",
     "output_type": "stream",
     "text": [
      "9\n"
     ]
    }
   ],
   "source": [
    "#single-\n",
    "class parent():\n",
    "    def add():\n",
    "        sum=4+5\n",
    "        print(sum)\n",
    "class class child(hello):\n",
    "    def sub():\n",
    "        sub=5-4\n",
    "        print(sub)\n"
   ]
  },
  {
   "cell_type": "code",
   "execution_count": null,
   "id": "ec70e65d",
   "metadata": {},
   "outputs": [],
   "source": [
    "#multilevel\n",
    "class base:\n",
    "    print(1)\n",
    "class derived1(base):\n",
    "     print(2)\n",
    "class derived2(derived1):\n",
    "    print(3)"
   ]
  },
  {
   "cell_type": "code",
   "execution_count": null,
   "id": "b16bcfbe",
   "metadata": {},
   "outputs": [],
   "source": [
    "#multiple\n",
    "Class Base1:\n",
    "       Body of the class\n",
    "\n",
    "Class Base2:\n",
    "     Body of the class\n",
    "\n",
    "Class Derived(Base1, Base2):\n",
    "     Body of the class"
   ]
  },
  {
   "cell_type": "code",
   "execution_count": null,
   "id": "c83512ab",
   "metadata": {},
   "outputs": [],
   "source": [
    "#hybrid\n",
    "class School:\n",
    "    def func1(self):\n",
    "        print(\"This function is in school.\")\n",
    " \n",
    " \n",
    "class Student1(School):\n",
    "    def func2(self):\n",
    "        print(\"This function is in student 1. \")\n",
    " \n",
    " \n",
    "class Student2(School):\n",
    "    def func3(self):\n",
    "        print(\"This function is in student 2.\")\n",
    " \n",
    " \n",
    "class Student3(Student1, School):\n",
    "    def func4(self):\n",
    "        print(\"This function is in student 3.\")"
   ]
  },
  {
   "cell_type": "code",
   "execution_count": null,
   "id": "c6a07d24",
   "metadata": {},
   "outputs": [],
   "source": [
    "#hierarchal\n",
    "class Parent:\n",
    "    def func1(self):\n",
    "        print(\"This function is in parent class.\")\n",
    " \n",
    "\n",
    " \n",
    " \n",
    "class Child1(Parent):\n",
    "    def func2(self):\n",
    "        print(\"This function is in child 1.\")\n",
    " \n",
    "\n",
    " \n",
    " \n",
    "class Child2(Parent):\n",
    "    def func3(self):\n",
    "        print(\"This function is in child 2.\")"
   ]
  }
 ],
 "metadata": {
  "kernelspec": {
   "display_name": "Python 3 (ipykernel)",
   "language": "python",
   "name": "python3"
  },
  "language_info": {
   "codemirror_mode": {
    "name": "ipython",
    "version": 3
   },
   "file_extension": ".py",
   "mimetype": "text/x-python",
   "name": "python",
   "nbconvert_exporter": "python",
   "pygments_lexer": "ipython3",
   "version": "3.10.9"
  }
 },
 "nbformat": 4,
 "nbformat_minor": 5
}
