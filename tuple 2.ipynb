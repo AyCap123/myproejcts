{
 "cells": [
  {
   "cell_type": "code",
   "execution_count": null,
   "id": "3abee613",
   "metadata": {},
   "outputs": [],
   "source": [
    "#tuples"
   ]
  },
  {
   "cell_type": "code",
   "execution_count": 1,
   "id": "eadb8d54",
   "metadata": {},
   "outputs": [
    {
     "name": "stdout",
     "output_type": "stream",
     "text": [
      "()\n"
     ]
    }
   ],
   "source": [
    "#tuple create\n",
    "options=()                      #To create an empty tuple you can use the tuple function or use empty parenthesis\n",
    "name=tuple()                    \n",
    "print(options)"
   ]
  },
  {
   "cell_type": "code",
   "execution_count": 3,
   "id": "3d5c3e50",
   "metadata": {},
   "outputs": [
    {
     "name": "stdout",
     "output_type": "stream",
     "text": [
      "(25, 21, 18)\n"
     ]
    }
   ],
   "source": [
    "age_list=[25,21,18]\n",
    "age=tuple(age_list)                    #To initialize a tuple with some values you can either use the tuple function or use the comma syntax\n",
    "print(age)"
   ]
  },
  {
   "cell_type": "code",
   "execution_count": 4,
   "id": "8ab45e07",
   "metadata": {},
   "outputs": [
    {
     "name": "stdout",
     "output_type": "stream",
     "text": [
      "(25, 21, 18)\n"
     ]
    }
   ],
   "source": [
    "age=25,21,18           #To use the comma syntax you need to have a few values separated by commas and assign them to a variable \n",
    "print(age)"
   ]
  },
  {
   "cell_type": "code",
   "execution_count": 5,
   "id": "80b6e792",
   "metadata": {},
   "outputs": [],
   "source": [
    "#tuple search\n",
    "#You can check either if a particular element exists in the tuple or you can\n",
    "#check at what index does a particular element exist"
   ]
  },
  {
   "cell_type": "code",
   "execution_count": 6,
   "id": "e29751cf",
   "metadata": {},
   "outputs": [
    {
     "data": {
      "text/plain": [
       "True"
      ]
     },
     "execution_count": 6,
     "metadata": {},
     "output_type": "execute_result"
    }
   ],
   "source": [
    "21 in age  #To check if a particular element exists in the tuple we use the members\n",
    "            #hip operator (using the ‘in’ keyword), which returns True if element exists and False if it does not"
   ]
  },
  {
   "cell_type": "code",
   "execution_count": 7,
   "id": "fa7bcff8",
   "metadata": {},
   "outputs": [
    {
     "data": {
      "text/plain": [
       "False"
      ]
     },
     "execution_count": 7,
     "metadata": {},
     "output_type": "execute_result"
    }
   ],
   "source": [
    "22 in age"
   ]
  },
  {
   "cell_type": "code",
   "execution_count": 8,
   "id": "37671f87",
   "metadata": {},
   "outputs": [
    {
     "data": {
      "text/plain": [
       "0"
      ]
     },
     "execution_count": 8,
     "metadata": {},
     "output_type": "execute_result"
    }
   ],
   "source": [
    "age.index(25)#You can also use the index method to find the index of a particular element in a tuple. \n",
    "             #It returns the index if the element is found if not then throws an error"
   ]
  },
  {
   "cell_type": "code",
   "execution_count": 9,
   "id": "2642d755",
   "metadata": {},
   "outputs": [
    {
     "data": {
      "text/plain": [
       "2"
      ]
     },
     "execution_count": 9,
     "metadata": {},
     "output_type": "execute_result"
    }
   ],
   "source": [
    "age.index(18)"
   ]
  },
  {
   "cell_type": "code",
   "execution_count": 10,
   "id": "9bee2de3",
   "metadata": {},
   "outputs": [],
   "source": [
    "# tuple slice\n",
    "#Slicing is used to get a contiguous portion of a list. For example, if wish to get a copy of elements from index 1 to 3\n",
    "age_list=[25,21,18,50,45]\n",
    "age=tuple(age_list)"
   ]
  },
  {
   "cell_type": "code",
   "execution_count": null,
   "id": "f512c0be",
   "metadata": {},
   "outputs": [],
   "source": []
  }
 ],
 "metadata": {
  "kernelspec": {
   "display_name": "Python 3 (ipykernel)",
   "language": "python",
   "name": "python3"
  },
  "language_info": {
   "codemirror_mode": {
    "name": "ipython",
    "version": 3
   },
   "file_extension": ".py",
   "mimetype": "text/x-python",
   "name": "python",
   "nbconvert_exporter": "python",
   "pygments_lexer": "ipython3",
   "version": "3.10.9"
  }
 },
 "nbformat": 4,
 "nbformat_minor": 5
}
