{
 "cells": [
  {
   "cell_type": "code",
   "execution_count": 10,
   "id": "0f6f7b2e",
   "metadata": {},
   "outputs": [
    {
     "name": "stdout",
     "output_type": "stream",
     "text": [
      "b\n",
      "b\n",
      "c\n",
      "a\n"
     ]
    }
   ],
   "source": [
    "class grandfather:\n",
    "    def __init__(self,gf):\n",
    "        self.gf=gf\n",
    "\n",
    "class father(grandfather):\n",
    "    def __init__(self,f,gf):\n",
    "        self.f=f\n",
    "        grandfather.__init__(self,gf)\n",
    "        \n",
    "class son(father):\n",
    "    def __init__(self,s,f,gf):\n",
    "        self.s=s\n",
    "        father.__init__(self,gf,f)\n",
    "    def printname(self):\n",
    "        print(self.gf)\n",
    "        print(self.f)\n",
    "        print(self.s)\n",
    "        \n",
    "obj1=son('a','b','c')\n",
    "print(obj1.gf)\n",
    "obj1.printname()\n"
   ]
  },
  {
   "cell_type": "code",
   "execution_count": null,
   "id": "d91b745e",
   "metadata": {},
   "outputs": [],
   "source": []
  },
  {
   "cell_type": "code",
   "execution_count": 7,
   "id": "85c0814d",
   "metadata": {},
   "outputs": [
    {
     "name": "stdout",
     "output_type": "stream",
     "text": [
      "Array: [-10, -9, -8, -7, -6, -5, -4, -3, -2, -1, 0, 1, 2, 3, 4, 5, 6, 7, 8, 9, 10]\n",
      "Positive Integers: [1, 2, 3, 4, 5, 6, 7, 8, 9, 10]\n",
      "Even Positive Integers: [2, 4, 6, 8, 10]\n"
     ]
    }
   ],
   "source": [
    "class IntegerClass:\n",
    "    def __init__(self):\n",
    "        self.array = list(range(-10, 11))  \n",
    "\n",
    "class PositiveIntegers(IntegerClass):\n",
    "    def __init__(self):\n",
    "        super().__init__()  \n",
    "        self.positive_integers = [num for num in self.array if num > 0] \n",
    "\n",
    "class EvenPositiveIntegers(PositiveIntegers):\n",
    "    def __init__(self):\n",
    "        super().__init__()  \n",
    "        self.even_positive_integers = [num for num in self.positive_integers if num % 2 == 0] \n",
    "\n",
    "\n",
    "obj = EvenPositiveIntegers()\n",
    "\n",
    "print(\"Array\" obj.array)\n",
    "print(\"Positive Integers\" obj.positive_integers)\n",
    "print(\"Even Positive Integers\" obj.even_positive_integers)\n"
   ]
  },
  {
   "cell_type": "code",
   "execution_count": null,
   "id": "aa898f19",
   "metadata": {},
   "outputs": [],
   "source": []
  },
  {
   "cell_type": "code",
   "execution_count": 14,
   "id": "c74b6529",
   "metadata": {},
   "outputs": [
    {
     "name": "stdout",
     "output_type": "stream",
     "text": [
      "Amazon is an Online Ecommerce Store\n",
      "Amazon is an Online Ecommerce Store\n",
      "Amazon is an Online Ecommerce Store\n"
     ]
    }
   ],
   "source": [
    "class Brands:                      #parent_class\n",
    "    brand_name_1 = \"Amazon\"\n",
    "    brand_name_2 = \"Ebay\"\n",
    "    brand_name_3 = \"OLX\"\n",
    "    \n",
    "class Products(Brands):            #child_class\n",
    "    prod_1 = \"Online Ecommerce Store\"\n",
    "    prod_2 = \"Online Store\"\n",
    "    prod_3 = \"Online Buy Sell Store\"\n",
    "\n",
    "class Popularity(Brands):        #grand_child_class\n",
    "    prod_1_popularity = 100\n",
    "    prod_2_popularity = 70\n",
    "    prod_3_popularity = 60\n",
    "\n",
    "class Value(Brands):\n",
    "    prod_1_value = \"Excellent Value\"\n",
    "    prod_2_value = \"Better Value\"\n",
    "    prod_3_value = \"Good Value\"\n",
    "    \n",
    "obj_1 = Products()          #Object_creation\n",
    "obj_2 = Popularity()\n",
    "obj_3 = Value()\n",
    "print(obj_1.brand_name_1+\" is an \"+obj_1.prod_1)\n",
    "print(obj_1.brand_name_1+\" is an \"+obj_1.prod_1)\n",
    "print(obj_1.brand_name_1+\" is an \"+obj_1.prod_1)"
   ]
  },
  {
   "cell_type": "code",
   "execution_count": 18,
   "id": "e43a50e6",
   "metadata": {},
   "outputs": [
    {
     "name": "stdout",
     "output_type": "stream",
     "text": [
      "Ayaangot95\n"
     ]
    }
   ],
   "source": [
    "class student:                      #parent_class\n",
    "    student_name_1 = \"Ayaan\"\n",
    "    student_name_2 = \"Eric\"\n",
    "    student_name_3 = \"sam\"\n",
    "    \n",
    "class phym(student):            #child_class\n",
    "    pm1 = \"95\"\n",
    "    pm2 = \"45\"\n",
    "    pm3 = \"80\"\n",
    "\n",
    "class mm(student):        #grand_child_class\n",
    "    mm1 = 100\n",
    "    mm2= 70\n",
    "    mm3= 60\n",
    "    \n",
    "class avg(student):\n",
    "    avg1 =97.5\n",
    "    avg2= 57.5\n",
    "    avg3=70\n",
    "    \n",
    "obj_1 = phym()          #Object_creation\n",
    "obj_2 = mm()\n",
    "obj_3 = avg()\n",
    "print(obj_1.student_name_1+\"got\"+obj_1.pm1)\n"
   ]
  },
  {
   "cell_type": "code",
   "execution_count": null,
   "id": "3d5bc6d4",
   "metadata": {},
   "outputs": [],
   "source": [
    "\n",
    "        "
   ]
  },
  {
   "cell_type": "code",
   "execution_count": 11,
   "id": "e0defecf",
   "metadata": {},
   "outputs": [
    {
     "name": "stdout",
     "output_type": "stream",
     "text": [
      "2.3456790123456845\n"
     ]
    }
   ],
   "source": []
  },
  {
   "cell_type": "code",
   "execution_count": null,
   "id": "a37c38e9",
   "metadata": {},
   "outputs": [],
   "source": [
    "from multimediadispatch import dispatch\n",
    "@dispatch(int,int)\n",
    "def product(first,second):\n",
    "    result=first*second\n",
    "    print(result)\n",
    "\n",
    "@dispatch(int,int,int)\n",
    "def product(first,second,third):\n",
    "    result=first*second*third\n",
    "    print(result)\n",
    "    \n",
    "@dispatch(float,float,float)\n",
    "def product(first,second,third):\n",
    "    result=first*second*third\n",
    "    print(result)"
   ]
  },
  {
   "cell_type": "code",
   "execution_count": null,
   "id": "d0f631f9",
   "metadata": {},
   "outputs": [],
   "source": [
    "from multimediadispatch import dispatch\n",
    "@dispatch(int,int)\n",
    "def product(first,second):\n",
    "    r1=first+second\n",
    "    r2=first-second\n",
    "    print(r1,r2)\n",
    "@dispatch(int,int,int)\n",
    "def product(first,second,third):\n",
    "    r1=first*second*third\n",
    "    r2=first+second+third\n",
    "    print(r1,r2)\n",
    "@dispatch(int,int,int)\n",
    "def product(first,second,third):\n",
    "    r1=first*second*third\n",
    "    r2=first+second+third\n",
    "    r3=first-second-third\n",
    "    r4=first/third\n",
    "    print(r1,r2,r3,r4)"
   ]
  },
  {
   "cell_type": "code",
   "execution_count": 7,
   "id": "12cc63a4",
   "metadata": {},
   "outputs": [
    {
     "name": "stdout",
     "output_type": "stream",
     "text": [
      "Inside Parent\n",
      "Inside Child\n"
     ]
    }
   ],
   "source": [
    "#pythom program to show method overriding\n",
    "#initiating parent class\n",
    "class Parent():\n",
    "    #constructor\n",
    "    def __init__(self):\n",
    "        self.value=\"Inside Parent\"\n",
    "    #parent show method\n",
    "    def show(self):\n",
    "        print(self.value)\n",
    "#child class\n",
    "class Child(Parent):\n",
    "    def __init__(self):\n",
    "        self.value=\"Inside Child\"\n",
    "    def show(self):\n",
    "        print(self.value)\n",
    "#Driver's code\n",
    "\n",
    "obj1=Parent()\n",
    "obj2=Child()\n",
    "\n",
    "obj1.show()\n",
    "obj2.show()\n",
    "    "
   ]
  },
  {
   "cell_type": "code",
   "execution_count": 9,
   "id": "dac09528",
   "metadata": {},
   "outputs": [
    {
     "name": "stdout",
     "output_type": "stream",
     "text": [
      "Inside parent\n",
      "Inside Child\n"
     ]
    }
   ],
   "source": [
    "#calling the parent class method inside the overriden method using super\n",
    "class Parent():\n",
    "    def show(self):\n",
    "        print(\"Inside parent\")\n",
    "class Child(Parent):\n",
    "    def show(self):\n",
    "        \n",
    "        # Calling the parent's class  method \n",
    "        super().show() \n",
    "        print(\"Inside Child\") \n",
    "\n",
    "obj1=Child()\n",
    "obj1.show()"
   ]
  },
  {
   "cell_type": "code",
   "execution_count": null,
   "id": "f4a74f16",
   "metadata": {},
   "outputs": [],
   "source": []
  }
 ],
 "metadata": {
  "kernelspec": {
   "display_name": "Python 3 (ipykernel)",
   "language": "python",
   "name": "python3"
  },
  "language_info": {
   "codemirror_mode": {
    "name": "ipython",
    "version": 3
   },
   "file_extension": ".py",
   "mimetype": "text/x-python",
   "name": "python",
   "nbconvert_exporter": "python",
   "pygments_lexer": "ipython3",
   "version": "3.10.9"
  }
 },
 "nbformat": 4,
 "nbformat_minor": 5
}
