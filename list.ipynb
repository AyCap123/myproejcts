{
 "cells": [
  {
   "cell_type": "code",
   "execution_count": 1,
   "id": "7498b9d9",
   "metadata": {},
   "outputs": [],
   "source": [
    "list=[1,2,3,4,5,6,7]"
   ]
  },
  {
   "cell_type": "code",
   "execution_count": 3,
   "id": "96aa1d82",
   "metadata": {},
   "outputs": [
    {
     "data": {
      "text/plain": [
       "[1, 2, 3, 4, 5, 6, 7]"
      ]
     },
     "execution_count": 3,
     "metadata": {},
     "output_type": "execute_result"
    }
   ],
   "source": [
    "list"
   ]
  },
  {
   "cell_type": "code",
   "execution_count": 4,
   "id": "42401ce9",
   "metadata": {},
   "outputs": [
    {
     "name": "stdout",
     "output_type": "stream",
     "text": [
      "[1, 2, 3, 4, 5, 6, 7]\n"
     ]
    }
   ],
   "source": [
    "print(list)"
   ]
  },
  {
   "cell_type": "code",
   "execution_count": 8,
   "id": "04be4fcf",
   "metadata": {},
   "outputs": [],
   "source": [
    "u=[1,'a',2,'b',3,'c']"
   ]
  },
  {
   "cell_type": "code",
   "execution_count": 10,
   "id": "ce7c5808",
   "metadata": {},
   "outputs": [
    {
     "data": {
      "text/plain": [
       "[1, 'a', 2, 'b', 3, 'c']"
      ]
     },
     "execution_count": 10,
     "metadata": {},
     "output_type": "execute_result"
    }
   ],
   "source": [
    "u"
   ]
  },
  {
   "cell_type": "code",
   "execution_count": 15,
   "id": "e7a7719f",
   "metadata": {},
   "outputs": [],
   "source": [
    "u.append(\"z\")"
   ]
  },
  {
   "cell_type": "code",
   "execution_count": 13,
   "id": "b18aeb4c",
   "metadata": {},
   "outputs": [
    {
     "data": {
      "text/plain": [
       "[1, 'a', 2, 'b', 3, 'c', 'z']"
      ]
     },
     "execution_count": 13,
     "metadata": {},
     "output_type": "execute_result"
    }
   ],
   "source": [
    "u"
   ]
  },
  {
   "cell_type": "code",
   "execution_count": null,
   "id": "3cea7ec0",
   "metadata": {},
   "outputs": [],
   "source": [
    "#Write a program to add x 5 times to  a an existing list"
   ]
  },
  {
   "cell_type": "code",
   "execution_count": 18,
   "id": "4bf3c0bb",
   "metadata": {},
   "outputs": [
    {
     "name": "stdout",
     "output_type": "stream",
     "text": [
      "[1, 2, 3, 4, 5, 6, 'x']\n",
      "[1, 2, 3, 4, 5, 6, 'x', 'x']\n",
      "[1, 2, 3, 4, 5, 6, 'x', 'x', 'x']\n",
      "[1, 2, 3, 4, 5, 6, 'x', 'x', 'x', 'x']\n",
      "[1, 2, 3, 4, 5, 6, 'x', 'x', 'x', 'x', 'x']\n"
     ]
    }
   ],
   "source": [
    "l=[1,2,3,4,5,6]\n",
    "for i in range(5):\n",
    "    l.append(\"x\")\n",
    "    print(l)\n",
    "  "
   ]
  },
  {
   "cell_type": "code",
   "execution_count": 41,
   "id": "834712d6",
   "metadata": {},
   "outputs": [
    {
     "name": "stdout",
     "output_type": "stream",
     "text": [
      "[2, 3, 4, 5, 6, 'x', 'x', 'x', 'x', 'x']\n",
      "[2, 4, 5, 6, 'x', 'x', 'x', 'x', 'x']\n",
      "[2, 4, 6, 'x', 'x', 'x', 'x', 'x']\n",
      "[2, 4, 6, 'x', 'x', 'x', 'x']\n",
      "[2, 4, 6, 'x', 'x', 'x']\n"
     ]
    }
   ],
   "source": [
    "y=[1,2,3,4,5,6,\"x\",\"x\",\"x\",\"x\",\"x\"]\n",
    "for i in range(5):\n",
    "    y.pop(i)\n",
    "    print(y)\n",
    "    \n",
    " "
   ]
  },
  {
   "cell_type": "code",
   "execution_count": null,
   "id": "ecddea9a",
   "metadata": {},
   "outputs": [],
   "source": [
    "#Write a progrm to take a list from number 1 to 10\n",
    "#1)remove all odd eleeents form the list\n",
    "#2)remove all even e;ements from the list"
   ]
  },
  {
   "cell_type": "code",
   "execution_count": 48,
   "id": "837a2c22",
   "metadata": {},
   "outputs": [
    {
     "name": "stdout",
     "output_type": "stream",
     "text": [
      "[2, 4, 6, 8, 10]\n"
     ]
    }
   ],
   "source": [
    "l=[1,2,3,4,5,6,7,8,9,10]\n",
    "for i in range(5):\n",
    "    l.pop(i)\n",
    "    \n",
    "print(l)\n"
   ]
  },
  {
   "cell_type": "code",
   "execution_count": 53,
   "id": "c8dd1a99",
   "metadata": {},
   "outputs": [
    {
     "name": "stdout",
     "output_type": "stream",
     "text": [
      "[1, 2, 3, 4, 5, 6, 7, 8, 9, 10]\n"
     ]
    }
   ],
   "source": [
    "l=[1,2,3,4,5,6,7,8,9,10]\n",
    "for i in range(5,2):\n",
    "    l.pop(i)\n",
    "    \n",
    "print(l)"
   ]
  },
  {
   "cell_type": "code",
   "execution_count": null,
   "id": "d66d8ef8",
   "metadata": {},
   "outputs": [],
   "source": []
  }
 ],
 "metadata": {
  "kernelspec": {
   "display_name": "Python 3 (ipykernel)",
   "language": "python",
   "name": "python3"
  },
  "language_info": {
   "codemirror_mode": {
    "name": "ipython",
    "version": 3
   },
   "file_extension": ".py",
   "mimetype": "text/x-python",
   "name": "python",
   "nbconvert_exporter": "python",
   "pygments_lexer": "ipython3",
   "version": "3.10.9"
  }
 },
 "nbformat": 4,
 "nbformat_minor": 5
}
