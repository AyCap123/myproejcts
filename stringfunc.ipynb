{
 "cells": [
  {
   "cell_type": "code",
   "execution_count": 1,
   "id": "c0dc0d04",
   "metadata": {},
   "outputs": [],
   "source": [
    "#Write a program to print the first 10 even natural numbers"
   ]
  },
  {
   "cell_type": "code",
   "execution_count": 2,
   "id": "fe92eeab",
   "metadata": {},
   "outputs": [
    {
     "name": "stdout",
     "output_type": "stream",
     "text": [
      "2\n",
      "4\n",
      "6\n",
      "8\n",
      "10\n",
      "12\n",
      "14\n",
      "16\n",
      "18\n",
      "20\n"
     ]
    }
   ],
   "source": [
    "for i in range(2,22,2):\n",
    "    print(i)"
   ]
  },
  {
   "cell_type": "code",
   "execution_count": 3,
   "id": "45ea5745",
   "metadata": {},
   "outputs": [],
   "source": [
    "#Write a program to print the first 10 odd natural numbers"
   ]
  },
  {
   "cell_type": "code",
   "execution_count": 4,
   "id": "b98b43d2",
   "metadata": {},
   "outputs": [
    {
     "name": "stdout",
     "output_type": "stream",
     "text": [
      "1\n",
      "3\n",
      "5\n",
      "7\n",
      "9\n",
      "11\n",
      "13\n",
      "15\n",
      "17\n",
      "19\n"
     ]
    }
   ],
   "source": [
    "for i in range(1,21,2):\n",
    "    print(i)"
   ]
  },
  {
   "cell_type": "code",
   "execution_count": 5,
   "id": "da23bc53",
   "metadata": {},
   "outputs": [],
   "source": [
    "#Write a program to print square of forst 5 odd numbers"
   ]
  },
  {
   "cell_type": "code",
   "execution_count": 6,
   "id": "4e386f78",
   "metadata": {},
   "outputs": [
    {
     "name": "stdout",
     "output_type": "stream",
     "text": [
      "1\n",
      "9\n",
      "25\n",
      "49\n",
      "81\n"
     ]
    }
   ],
   "source": [
    "x=1\n",
    "while(x<10):\n",
    "    print(x**2)\n",
    "    x+=2"
   ]
  },
  {
   "cell_type": "code",
   "execution_count": null,
   "id": "87d93292",
   "metadata": {},
   "outputs": [],
   "source": []
  },
  {
   "cell_type": "code",
   "execution_count": 7,
   "id": "90eb3cae",
   "metadata": {},
   "outputs": [],
   "source": [
    "#Make a basic calculator"
   ]
  },
  {
   "cell_type": "code",
   "execution_count": 12,
   "id": "1afc4828",
   "metadata": {},
   "outputs": [
    {
     "name": "stdout",
     "output_type": "stream",
     "text": [
      "Enter 1st number7\n",
      "Enter 2nd number4\n",
      "Enter a sign/\n",
      "1.75\n"
     ]
    }
   ],
   "source": [
    "x=int(input(\"Enter 1st number\"))\n",
    "y=int(input(\"Enter 2nd number\"))\n",
    "sign=input(\"Enter a sign\")\n",
    "r=0\n",
    "if (sign=='+'):\n",
    "    r=x+y\n",
    "    print(r)\n",
    "    \n",
    "elif (sign=='-'):\n",
    "    r=x-y\n",
    "    print(r)\n",
    "    \n",
    "elif (sign=='*'):\n",
    "    r=x*y\n",
    "    print(r)\n",
    "    \n",
    "elif (sign=='/'):\n",
    "    r=x/y\n",
    "    print(r)\n",
    "\n",
    "         \n",
    "    "
   ]
  },
  {
   "cell_type": "code",
   "execution_count": 9,
   "id": "160b70bb",
   "metadata": {},
   "outputs": [],
   "source": [
    "# pragram a marks grade"
   ]
  },
  {
   "cell_type": "code",
   "execution_count": 14,
   "id": "8d0c43c8",
   "metadata": {},
   "outputs": [
    {
     "name": "stdout",
     "output_type": "stream",
     "text": [
      "Enter marks98\n",
      "A\n"
     ]
    }
   ],
   "source": [
    "x=int(input(\"Enter marks\"))\n",
    "if(x>80 and x<=100):\n",
    "    print(\"A\")\n",
    "    \n",
    "elif(x>60 and x<=80):\n",
    "    print(\"B\")\n",
    "    \n",
    "elif(x>40 and x<=60):\n",
    "    print(\"C\")\n",
    "    \n",
    "else:\n",
    "    print(\"F\")"
   ]
  },
  {
   "cell_type": "code",
   "execution_count": null,
   "id": "e61938d1",
   "metadata": {},
   "outputs": [],
   "source": [
    "#Write a paragraph about urself and split 'a', count 'a',\n"
   ]
  },
  {
   "cell_type": "code",
   "execution_count": 12,
   "id": "42bc63ee",
   "metadata": {},
   "outputs": [],
   "source": [
    "x=\"I am Ayaan Imam. I love to play sports. My favourite hobby is reading.I love to eat\"\n"
   ]
  },
  {
   "cell_type": "code",
   "execution_count": 13,
   "id": "e753e6f5",
   "metadata": {},
   "outputs": [
    {
     "data": {
      "text/plain": [
       "['I ',\n",
       " 'm Ay',\n",
       " '',\n",
       " 'n Im',\n",
       " 'm. I love to pl',\n",
       " 'y sports. My f',\n",
       " 'vourite hobby is re',\n",
       " 'ding.I love to e',\n",
       " 't']"
      ]
     },
     "execution_count": 13,
     "metadata": {},
     "output_type": "execute_result"
    }
   ],
   "source": [
    "x.split(\"a\")"
   ]
  },
  {
   "cell_type": "code",
   "execution_count": 14,
   "id": "29c61ef1",
   "metadata": {},
   "outputs": [
    {
     "data": {
      "text/plain": [
       "8"
      ]
     },
     "execution_count": 14,
     "metadata": {},
     "output_type": "execute_result"
    }
   ],
   "source": [
    "x.count('a')"
   ]
  },
  {
   "cell_type": "code",
   "execution_count": 15,
   "id": "3ef28a94",
   "metadata": {},
   "outputs": [
    {
     "data": {
      "text/plain": [
       "2"
      ]
     },
     "execution_count": 15,
     "metadata": {},
     "output_type": "execute_result"
    }
   ],
   "source": [
    "x.find('a')"
   ]
  },
  {
   "cell_type": "code",
   "execution_count": 16,
   "id": "fa49c877",
   "metadata": {},
   "outputs": [
    {
     "data": {
      "text/plain": [
       "'I zm Ayzzn Imzm. I love to plzy sports. My fzvourite hobby is rezding.I love to ezt'"
      ]
     },
     "execution_count": 16,
     "metadata": {},
     "output_type": "execute_result"
    }
   ],
   "source": [
    "x.replace(\"a\",\"z\")"
   ]
  },
  {
   "cell_type": "code",
   "execution_count": 17,
   "id": "1dfe7761",
   "metadata": {},
   "outputs": [],
   "source": [
    "#Write another"
   ]
  },
  {
   "cell_type": "code",
   "execution_count": 18,
   "id": "4089ddd9",
   "metadata": {},
   "outputs": [],
   "source": [
    "y=\"Everyone knows that paper is made from trees. But when one looks at trees, one cannot imagine that something so soft and fragile as the paper is made is so hard and strong. Plant materials such as wood are made of fibres known as cellulose. It is the primary ingredient in paper making. Raw wood is first converted into pulp consisting of a mixture of Cellulose, lignin, water and some chemicals. The pulp can be made mechanically through grinders or through chemical processes. Short fibres are produced by mechanical grinding. The paper produced in this way is weak and is used to make newspapers, magazines and phonebooks.\""
   ]
  },
  {
   "cell_type": "code",
   "execution_count": 19,
   "id": "51b4ad1a",
   "metadata": {},
   "outputs": [
    {
     "data": {
      "text/plain": [
       "['Everyone knows that paper ',\n",
       " 's made from trees. But when one looks at trees, one cannot ',\n",
       " 'mag',\n",
       " 'ne that someth',\n",
       " 'ng so soft and frag',\n",
       " 'le as the paper ',\n",
       " 's made ',\n",
       " 's so hard and strong. Plant mater',\n",
       " 'als such as wood are made of f',\n",
       " 'bres known as cellulose. It ',\n",
       " 's the pr',\n",
       " 'mary ',\n",
       " 'ngred',\n",
       " 'ent ',\n",
       " 'n paper mak',\n",
       " 'ng. Raw wood ',\n",
       " 's f',\n",
       " 'rst converted ',\n",
       " 'nto pulp cons',\n",
       " 'st',\n",
       " 'ng of a m',\n",
       " 'xture of Cellulose, l',\n",
       " 'gn',\n",
       " 'n, water and some chem',\n",
       " 'cals. The pulp can be made mechan',\n",
       " 'cally through gr',\n",
       " 'nders or through chem',\n",
       " 'cal processes. Short f',\n",
       " 'bres are produced by mechan',\n",
       " 'cal gr',\n",
       " 'nd',\n",
       " 'ng. The paper produced ',\n",
       " 'n th',\n",
       " 's way ',\n",
       " 's weak and ',\n",
       " 's used to make newspapers, magaz',\n",
       " 'nes and phonebooks.']"
      ]
     },
     "execution_count": 19,
     "metadata": {},
     "output_type": "execute_result"
    }
   ],
   "source": [
    "y.split(\"i\")"
   ]
  },
  {
   "cell_type": "code",
   "execution_count": 20,
   "id": "d85ae14d",
   "metadata": {},
   "outputs": [
    {
     "data": {
      "text/plain": [
       "26"
      ]
     },
     "execution_count": 20,
     "metadata": {},
     "output_type": "execute_result"
    }
   ],
   "source": [
    "y.find(\"i\")"
   ]
  },
  {
   "cell_type": "code",
   "execution_count": 21,
   "id": "cc0c4208",
   "metadata": {},
   "outputs": [
    {
     "data": {
      "text/plain": [
       "'Everyone knows that paper as made from trees. But when one looks at trees, one cannot amagane that somethang so soft and fragale as the paper as made as so hard and strong. Plant materaals such as wood are made of fabres known as cellulose. It as the pramary angredaent an paper makang. Raw wood as farst converted anto pulp consastang of a maxture of Cellulose, lagnan, water and some chemacals. The pulp can be made mechanacally through granders or through chemacal processes. Short fabres are produced by mechanacal grandang. The paper produced an thas way as weak and as used to make newspapers, magazanes and phonebooks.'"
      ]
     },
     "execution_count": 21,
     "metadata": {},
     "output_type": "execute_result"
    }
   ],
   "source": [
    "y.replace(\"i\",\"a\")"
   ]
  },
  {
   "cell_type": "code",
   "execution_count": 22,
   "id": "04cfda3e",
   "metadata": {},
   "outputs": [
    {
     "data": {
      "text/plain": [
       "36"
      ]
     },
     "execution_count": 22,
     "metadata": {},
     "output_type": "execute_result"
    }
   ],
   "source": [
    "y.count(\"i\")"
   ]
  },
  {
   "cell_type": "code",
   "execution_count": null,
   "id": "2056b287",
   "metadata": {},
   "outputs": [],
   "source": []
  },
  {
   "cell_type": "code",
   "execution_count": null,
   "id": "ff93c86e",
   "metadata": {},
   "outputs": [],
   "source": []
  }
 ],
 "metadata": {
  "kernelspec": {
   "display_name": "Python 3 (ipykernel)",
   "language": "python",
   "name": "python3"
  },
  "language_info": {
   "codemirror_mode": {
    "name": "ipython",
    "version": 3
   },
   "file_extension": ".py",
   "mimetype": "text/x-python",
   "name": "python",
   "nbconvert_exporter": "python",
   "pygments_lexer": "ipython3",
   "version": "3.10.9"
  }
 },
 "nbformat": 4,
 "nbformat_minor": 5
}
